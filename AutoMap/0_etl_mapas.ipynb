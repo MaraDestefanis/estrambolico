{
 "cells": [
  {
   "cell_type": "markdown",
   "metadata": {},
   "source": [
    "## Archivo de limpieza y preparacion para los mapas"
   ]
  },
  {
   "cell_type": "markdown",
   "metadata": {},
   "source": [
    "### 1_ Preparamos el entorno"
   ]
  },
  {
   "cell_type": "code",
   "execution_count": 1,
   "metadata": {},
   "outputs": [],
   "source": [
    "import re\n",
    "import warnings\n",
    "\n",
    "import pandas as pd\n",
    "\n",
    "warnings.filterwarnings('ignore')\n",
    "import unicodedata"
   ]
  },
  {
   "cell_type": "markdown",
   "metadata": {},
   "source": [
    "____ ACA CAMBIAR EL ARCHIVO AL NUEVO QUE SE QUIERA MAPEAR ___ \n"
   ]
  },
  {
   "cell_type": "code",
   "execution_count": 2,
   "metadata": {},
   "outputs": [],
   "source": [
    "# JULIO\n",
    "#track = pd.read_excel(\"Reporte de viaje(20240701-20240731).xlsx\", engine=\"openpyxl\")\n",
    "\n",
    "# AGOSTO\n",
    "track = pd.read_excel(\"Reporte de viaje(20240801-20240831).xlsx\", engine=\"openpyxl\")"
   ]
  },
  {
   "cell_type": "markdown",
   "metadata": {},
   "source": [
    "**Cargamos ubicaciones extra Abitab,Red pagos, Empresa, Casas**"
   ]
  },
  {
   "cell_type": "code",
   "execution_count": 3,
   "metadata": {},
   "outputs": [],
   "source": [
    "lugares_pago = {\n",
    "        'CODIGO': [200000, 200002, 200003, 200005, 200006, 200007, 200008, 200009, 200010, 200011, 200012, 200013, 200014, 200015, 200016, 200017, 200018, 200019, 200020, 200021, 200022, 200023, 200024, 200025, 200026, 200027, 200028, 200029, 200030, 200031],\n",
    "        'NOMCLI': ['Abitab', 'ABITAB 12/18', 'Abitab', 'Abitab Ruta 87', 'Abitab 12-21', 'Abitab', 'Abitab', 'Cambilex', 'Abitab', 'Abitab', 'Abitab', 'Abitab', 'Abitab', 'Abitab', 'Abitab Agencia 18/09', 'Redpagos Minimercado Nico', 'Red Pagos El Dorado, Las Toscas', 'Redpagos Bachino', 'Redpagos San Luis', 'Redpagos La Tuna', 'Redpagos Provision San Jorge', 'Red Pagos', 'RedPagos', 'RedPagos', 'Cambilex', 'Redpagos Salinas', 'Redpagos Salinas Norte', 'Redpagos Pinamar', 'Redpagos Agencias Migues', 'Redpagos Saucedo'],\n",
    "        'LATITUD': [-34.7773749, -34.778762, -34.7769439, -34.7722784, -34.7717067, -34.7576624, -34.7714756, -34.772715, -34.7554596, -34.7673311, -34.7506218, -34.758673, -34.769283, -34.7701505, -34.6003052, -34.79286, -34.7710358, -34.7592078, -34.7663154, -34.7801148, -34.6832898, -34.7499177, -34.7741445, -34.7679195, -34.7773725, -34.7758541, -34.77187, -34.778569, -34.4884583, -34.5999389],\n",
    "        'LONGITUD': [-55.8391627, -55.8620459, -55.8489382, -55.8413815, -55.8195923, -55.766793, -55.7620991, -55.7637416, -55.7246934, -55.7220688, -55.7094748, -55.677871, -55.6553415, -55.5763933, -55.4663981, -55.49211, -55.7337499, -55.6766295, -55.5899085, -55.5607396, -55.7024884, -55.7083951, -55.7615713, -55.767487, -55.8391636, -55.8397048, -55.84086, -55.862882, -55.630918, -55.4665898]\n",
    "    }\n",
    "\n",
    "# Crear DataFrame\n",
    "lugares_pago_df = pd.DataFrame(lugares_pago)\n",
    "\n",
    "# ___________________________________________________________________________\n",
    "\n",
    "# Añadir lugares empresa **Codigo 200.000 a 200032**\n",
    "# Datos de ubicaciones fijas\n",
    "ubi_empresa = {\n",
    "        'CODIGO': [100001, 100002, 100003, 100004, 100005,100000,],\n",
    "        'NOMCLI': ['CASA DARIO', 'CASA HUGO', 'CASA CONRADO', 'CASA MIGUEL', 'CASA MARTIN','EMPRESA'],\n",
    "        'LATITUD': [-34.770962, -34.76416, -34.766187, -34.787831, -34.761527,-34.771148],\n",
    "        'LONGITUD': [-55.742166, -55.86347, -55.780495, -55.850621, -55.74736, -55.758]\n",
    "    }\n",
    "df_ubi_empresa = pd.DataFrame(ubi_empresa)\n"
   ]
  },
  {
   "cell_type": "code",
   "execution_count": 4,
   "metadata": {},
   "outputs": [],
   "source": [
    "# Guardamos\n",
    "# Dejamos comentado hasta descubrir como cargar estos set via lectura del archivo\n",
    "# el problema actual es que si simplemente importamos este archivo guardado a la hora de crear el mapa, no se guarda la estructura del dataframe resultando en error\n",
    "# por eso simplemente lo declaramos en cada mapa antes de mapear, pero por las dudas\n",
    "# lo dejamos aca listo para descomentar:  \n",
    "\n",
    "# Descomentar a futuro: \n",
    "\n",
    "#lugares_pago_df.to_excel('lugares_pago.xlsx', index=False)\n",
    "#df_ubi_empresa.to_excel('ubi_empresa.xlsx', index=False)"
   ]
  },
  {
   "cell_type": "markdown",
   "metadata": {},
   "source": [
    "### 2_ Realizamos ajustes y limpiezas"
   ]
  },
  {
   "cell_type": "markdown",
   "metadata": {},
   "source": [
    "### 1. Reporte de viaje (safetrack)\n",
    "#### (estacionados_camion a ubi_cliente)"
   ]
  },
  {
   "cell_type": "markdown",
   "metadata": {},
   "source": [
    "- Eliminamos columnas innecesarias\n",
    "- Convertimos tipos de datos\n",
    "- Dejamos nuevo grupo donde [\"Estado_de_viaje\"] == \"Estacionamiento\"]"
   ]
  },
  {
   "cell_type": "code",
   "execution_count": 5,
   "metadata": {},
   "outputs": [],
   "source": [
    "# Eliminar las columnas innecesarias y renombrar las columnas\n",
    "track = track.iloc[3:].reset_index(drop=True)\n",
    "track.columns = [\n",
    "'Indice', 'Numero_de_placa', 'Estado_de_viaje', 'Tiempo_de_Inicio', \n",
    "'Tiempo_Final', 'Kilometraje_km', 'Duracion', 'Lugar_de_inicio', 'Fin_Localizacion'\n",
    "]\n",
    "\n",
    "# Convertimos columnas \n",
    "track['Tiempo_de_Inicio'] = pd.to_datetime(track['Tiempo_de_Inicio'], errors='coerce')\n",
    "track['Tiempo_Final'] = pd.to_datetime(track['Tiempo_Final'], errors='coerce')\n",
    "\n",
    "# Nuevo grupo estacionados_cliente\n",
    "estacionados_camion = track[track[\"Estado_de_viaje\"] == \"Estacionamiento\"]\n",
    "\n",
    "# Eliminamos columnas innecesarias\n",
    "estacionados_camion.drop(columns=[\"Fin_Localizacion\"], errors='ignore', inplace=True)\n",
    "estacionados_camion.drop(columns=[\"Kilometraje_km\"], errors='ignore', inplace=True)"
   ]
  },
  {
   "cell_type": "markdown",
   "metadata": {},
   "source": [
    "Conversion de coordenadas de latitud y longitud(camion_x, camion_y) "
   ]
  },
  {
   "cell_type": "code",
   "execution_count": 6,
   "metadata": {},
   "outputs": [
    {
     "name": "stdout",
     "output_type": "stream",
     "text": [
      "<class 'pandas.core.frame.DataFrame'>\n",
      "Index: 2288 entries, 1 to 4599\n",
      "Data columns (total 7 columns):\n",
      " #   Column            Non-Null Count  Dtype         \n",
      "---  ------            --------------  -----         \n",
      " 0   Indice            2288 non-null   object        \n",
      " 1   Numero_de_placa   2288 non-null   object        \n",
      " 2   Estado_de_viaje   2288 non-null   object        \n",
      " 3   Tiempo_de_Inicio  2288 non-null   datetime64[ns]\n",
      " 4   Tiempo_Final      2288 non-null   datetime64[ns]\n",
      " 5   Duracion          2288 non-null   object        \n",
      " 6   Lugar_de_inicio   2288 non-null   object        \n",
      "dtypes: datetime64[ns](2), object(5)\n",
      "memory usage: 143.0+ KB\n"
     ]
    }
   ],
   "source": [
    "estacionados_camion.info()"
   ]
  },
  {
   "cell_type": "code",
   "execution_count": 7,
   "metadata": {},
   "outputs": [],
   "source": [
    "# Asegurarse de que todos los valores en 'Lugar_de_inicio' son cadenas\n",
    "estacionados_camion['Lugar_de_inicio'] = estacionados_camion['Lugar_de_inicio'].astype(str)\n",
    "\n",
    "# Separar la columna en dos nuevas columnas, manejando posibles errores\n",
    "def split_coords(lugar):\n",
    "     try:\n",
    "          lat, lon = lugar.split(',')\n",
    "          return lat, lon\n",
    "     except ValueError:\n",
    "          return None, None\n",
    "     \n",
    "# Crear nuevas columnas 'latitud' y 'longitud' usando .loc para evitar el SettingWithCopyWarning\n",
    "estacionados_camion[['latitud', 'longitud']] = estacionados_camion['Lugar_de_inicio'].apply(lambda x: pd.Series(split_coords(x)))\n",
    "\n",
    "# Convertir las coordenadas de 'latitud' y 'longitud' a flotantes\n",
    "def convert_coord(coord):\n",
    "     if 'S' in coord or 'W' in coord:\n",
    "          return -float(coord[:-1])\n",
    "     elif 'N' in coord or 'E' in coord:\n",
    "          return float(coord[:-1])\n",
    "     else:\n",
    "          return None\n",
    "# Cambiar la columna latitud por camion_x y longitud por camion_y\n",
    "estacionados_camion['latitud'] = estacionados_camion['latitud'].apply(convert_coord)\n",
    "estacionados_camion['longitud'] = estacionados_camion['longitud'].apply(convert_coord)\n",
    "\n",
    "#Eliminar filas con valores nulos en latitud y longitud\n",
    "estacionados_camion = estacionados_camion.dropna(subset=['longitud', 'latitud'])\n",
    "\n",
    "\n",
    "# Cambiar la columna latitud por camion_x y longitud por camion_y\n",
    "estacionados_camion = estacionados_camion.rename(columns={'latitud': 'camion_x', 'longitud': 'camion_y'})\n",
    "\n",
    "estacionados_camion = estacionados_camion.dropna(subset=['camion_x', 'camion_y', 'Numero_de_placa', 'Tiempo_de_Inicio', 'Tiempo_Final', 'Duracion'])"
   ]
  },
  {
   "cell_type": "markdown",
   "metadata": {},
   "source": [
    "Verificación de coordenadas geográficas"
   ]
  },
  {
   "cell_type": "code",
   "execution_count": 8,
   "metadata": {},
   "outputs": [],
   "source": [
    "# Filtrar filas con latitud fuera de rango\n",
    "estacionados_camion = estacionados_camion[\n",
    "    (estacionados_camion['camion_y'].between(-180, 180)) & \n",
    "    (estacionados_camion['camion_x'].between(-90, 90))\n",
    "]"
   ]
  },
  {
   "cell_type": "markdown",
   "metadata": {},
   "source": [
    "Duracion de objeto a float "
   ]
  },
  {
   "cell_type": "code",
   "execution_count": 9,
   "metadata": {},
   "outputs": [],
   "source": [
    "# Función para convertir \"XhYMinutosZs\" a formato decimal\n",
    "def convertir_a_decimal(duracion):\n",
    "        match = re.match(r'(?:(\\d+)h)?(\\d+)Minutos(\\d+)s', duracion)\n",
    "        if match:\n",
    "            horas = int(match.group(1)) if match.group(1) else 0\n",
    "            minutos = int(match.group(2))\n",
    "            segundos = int(match.group(3))\n",
    "            total_minutos = horas * 60 + minutos\n",
    "            return total_minutos + segundos / 100  # Formato como X.YY\n",
    "        return None\n",
    "# Aplicar la función a la columna 'Duracion'\n",
    "estacionados_camion['Duracion'] = estacionados_camion['Duracion'].apply(convertir_a_decimal)"
   ]
  },
  {
   "cell_type": "markdown",
   "metadata": {},
   "source": [
    "Ajustes en Numero_de_placa y guardamos estacionados_camion.xlsx"
   ]
  },
  {
   "cell_type": "code",
   "execution_count": 10,
   "metadata": {},
   "outputs": [],
   "source": [
    "# Normalizar las patentes en el DataFrame\n",
    "estacionados_camion['Numero_de_placa'] = estacionados_camion['Numero_de_placa'].str.replace(' ', '').str.upper()"
   ]
  },
  {
   "cell_type": "markdown",
   "metadata": {},
   "source": [
    "Dividimos el mapa mensual en semanas y calculamos percentiles para la semana especifica "
   ]
  },
  {
   "cell_type": "code",
   "execution_count": 11,
   "metadata": {},
   "outputs": [],
   "source": [
    "# Añadir una columna de semana al DataFrame\n",
    "estacionados_camion['Semana'] = estacionados_camion['Tiempo_de_Inicio'].dt.isocalendar().week\n",
    "estacionados_camion['Semana_del_mes'] = (estacionados_camion['Tiempo_de_Inicio'].dt.day - 1) // 7 + 1\n",
    "\n",
    "# Filtrar por semanas del mes\n",
    "semanas_del_mes = estacionados_camion['Semana_del_mes'].unique()\n",
    "\n",
    "for semana in semanas_del_mes:\n",
    "     datos_semana = estacionados_camion[estacionados_camion['Semana'] == semana]\n",
    "     # Calcular percentiles para la semana específica\n",
    "     duracion_25 = datos_semana['Duracion'].quantile(0.25)\n",
    "     duracion_75 = datos_semana['Duracion'].quantile(0.75)"
   ]
  },
  {
   "cell_type": "markdown",
   "metadata": {},
   "source": [
    "Verificación de semanas"
   ]
  },
  {
   "cell_type": "code",
   "execution_count": 12,
   "metadata": {},
   "outputs": [],
   "source": [
    "# Eliminar filas con valores nulos en 'Semana_del_mes'\n",
    "estacionados_camion = estacionados_camion.dropna(subset=['Semana_del_mes'])\n",
    "\n",
    "# Filtrar por semanas del mes\n",
    "semanas_del_mes = estacionados_camion['Semana_del_mes'].unique()"
   ]
  },
  {
   "cell_type": "code",
   "execution_count": 13,
   "metadata": {},
   "outputs": [],
   "source": [
    "# Guardamos estacionados_camion\n",
    "estacionados_camion.to_excel(\"estacionados_camion.xlsx\", index=False)"
   ]
  },
  {
   "cell_type": "markdown",
   "metadata": {},
   "source": [
    "### 2. Ubicaciones_direcciones (ubi_cliente)"
   ]
  },
  {
   "cell_type": "code",
   "execution_count": 14,
   "metadata": {},
   "outputs": [],
   "source": [
    "# Leemos el set\n",
    "df_cliente = pd.read_excel(\"../AutoMap/Ubicaciones_direcciones.xlsx\", engine=\"openpyxl\")\n",
    "\n",
    "# Dejamos solo las columnas de interes CODIGO, NOMCLI, LATITUD, LONGITUD, FECHA.\n",
    "ubi_cliente = df_cliente[['CODIGO', 'CODIGO2', 'LATITUD', 'LONGITUD']]\n",
    "ubi_cliente = ubi_cliente.rename(columns={'CODIGO2': 'NOMCLI'})\n",
    "\n",
    "# Transformaciones\n",
    "\n",
    "# Asegurarse de que las columnas LONGITUD y LATITUD sean numéricas\n",
    "ubi_cliente['LONGITUD'] = pd.to_numeric(ubi_cliente['LONGITUD'], errors='coerce')\n",
    "ubi_cliente['LATITUD'] = pd.to_numeric(ubi_cliente['LATITUD'], errors='coerce')\n",
    "\n",
    "# Limpiezas\n",
    "ubi_cliente = ubi_cliente.dropna(subset=['LATITUD', 'LONGITUD', 'CODIGO', 'NOMCLI'])\n",
    "ubi_cliente = ubi_cliente.drop_duplicates(subset=['NOMCLI'])\n",
    "ubi_cliente.reset_index(drop=True, inplace=True)\n",
    "\n",
    "#Guardamos \n",
    "ubi_cliente.to_excel(\"ubi_cliente.xlsx\", index=\"FALSE\")"
   ]
  },
  {
   "cell_type": "markdown",
   "metadata": {},
   "source": [
    "### 3_ TAREAS PROYECTOS "
   ]
  },
  {
   "cell_type": "code",
   "execution_count": 15,
   "metadata": {},
   "outputs": [],
   "source": [
    "# Tareas.xlsx\n",
    "df_tareas = pd.read_excel('Tareas.xlsx', engine=\"openpyxl\")"
   ]
  },
  {
   "cell_type": "code",
   "execution_count": 16,
   "metadata": {},
   "outputs": [
    {
     "data": {
      "text/html": [
       "<div>\n",
       "<style scoped>\n",
       "    .dataframe tbody tr th:only-of-type {\n",
       "        vertical-align: middle;\n",
       "    }\n",
       "\n",
       "    .dataframe tbody tr th {\n",
       "        vertical-align: top;\n",
       "    }\n",
       "\n",
       "    .dataframe thead th {\n",
       "        text-align: right;\n",
       "    }\n",
       "</style>\n",
       "<table border=\"1\" class=\"dataframe\">\n",
       "  <thead>\n",
       "    <tr style=\"text-align: right;\">\n",
       "      <th></th>\n",
       "      <th>PROYECTO</th>\n",
       "      <th>TAREA</th>\n",
       "      <th>DESCRIPCION</th>\n",
       "      <th>SECCION</th>\n",
       "      <th>FECHA</th>\n",
       "      <th>PERIODICIDAD</th>\n",
       "      <th>ORDEN</th>\n",
       "      <th>RESPONSABLE</th>\n",
       "      <th>CODPROY</th>\n",
       "      <th>CODTAREA</th>\n",
       "      <th>ETIQUETA</th>\n",
       "      <th>CODIGO</th>\n",
       "    </tr>\n",
       "  </thead>\n",
       "  <tbody>\n",
       "    <tr>\n",
       "      <th>318</th>\n",
       "      <td>🗞️ Visitas periodicas Martin</td>\n",
       "      <td>41920, ALICIA BIZOSA DE MAYO (City Golf)</td>\n",
       "      <td>Marcador 108\\nlat/lng: (-34.75747,-55.77451)\\n...</td>\n",
       "      <td>NaN</td>\n",
       "      <td>2024-07-27T03:00:00.000Z</td>\n",
       "      <td>cada 56 dias</td>\n",
       "      <td>124.0</td>\n",
       "      <td>26987950.0</td>\n",
       "      <td>2.241074e+09</td>\n",
       "      <td>7.702498e+09</td>\n",
       "      <td>🌓Tar, 🗞️Vp</td>\n",
       "      <td>41920</td>\n",
       "    </tr>\n",
       "    <tr>\n",
       "      <th>469</th>\n",
       "      <td>Ruta Dario Lunes</td>\n",
       "      <td>80280,4 SOLES ( Abigail )</td>\n",
       "      <td>NaN</td>\n",
       "      <td>NaN</td>\n",
       "      <td>2024-08-26T03:00:00.000Z</td>\n",
       "      <td>CADA LUNES</td>\n",
       "      <td>25.0</td>\n",
       "      <td>26988122.0</td>\n",
       "      <td>2.236031e+09</td>\n",
       "      <td>8.009769e+09</td>\n",
       "      <td>NaN</td>\n",
       "      <td>80280</td>\n",
       "    </tr>\n",
       "    <tr>\n",
       "      <th>452</th>\n",
       "      <td>Ruta Dario Lunes</td>\n",
       "      <td>80261,SALON LOCURA (Mijo)</td>\n",
       "      <td>🟡🔥///</td>\n",
       "      <td>NaN</td>\n",
       "      <td>2024-08-26T03:00:00.000Z</td>\n",
       "      <td>CADA LUNES</td>\n",
       "      <td>7.0</td>\n",
       "      <td>26988122.0</td>\n",
       "      <td>2.236031e+09</td>\n",
       "      <td>7.562501e+09</td>\n",
       "      <td>NaN</td>\n",
       "      <td>80261</td>\n",
       "    </tr>\n",
       "    <tr>\n",
       "      <th>623</th>\n",
       "      <td>Ruta Dario Viernes</td>\n",
       "      <td>22344, ANA MARTINEZ ( La Estancia) tia Facundo...</td>\n",
       "      <td>🟥/// http://maps.google.com/?q=-34.76886579585...</td>\n",
       "      <td>NaN</td>\n",
       "      <td>2024-08-23T03:00:00.000Z</td>\n",
       "      <td>cada viernes</td>\n",
       "      <td>7.0</td>\n",
       "      <td>26988122.0</td>\n",
       "      <td>2.236032e+09</td>\n",
       "      <td>7.356035e+09</td>\n",
       "      <td>NaN</td>\n",
       "      <td>22344</td>\n",
       "    </tr>\n",
       "    <tr>\n",
       "      <th>262</th>\n",
       "      <td>🗞️ Visitas periodicas Martin</td>\n",
       "      <td>80239,BETTY GARRIDO MI ABUELA (La Floresta)</td>\n",
       "      <td>NaN</td>\n",
       "      <td>NaN</td>\n",
       "      <td>2024-09-16T03:00:00.000Z</td>\n",
       "      <td>cada 56 dias</td>\n",
       "      <td>68.0</td>\n",
       "      <td>26987950.0</td>\n",
       "      <td>2.241074e+09</td>\n",
       "      <td>7.349302e+09</td>\n",
       "      <td>🌓Tar, 🔎 Ctrl, 🗞️Vp</td>\n",
       "      <td>80239</td>\n",
       "    </tr>\n",
       "  </tbody>\n",
       "</table>\n",
       "</div>"
      ],
      "text/plain": [
       "                         PROYECTO  \\\n",
       "318  🗞️ Visitas periodicas Martin   \n",
       "469              Ruta Dario Lunes   \n",
       "452              Ruta Dario Lunes   \n",
       "623            Ruta Dario Viernes   \n",
       "262  🗞️ Visitas periodicas Martin   \n",
       "\n",
       "                                                 TAREA  \\\n",
       "318           41920, ALICIA BIZOSA DE MAYO (City Golf)   \n",
       "469                          80280,4 SOLES ( Abigail )   \n",
       "452                          80261,SALON LOCURA (Mijo)   \n",
       "623  22344, ANA MARTINEZ ( La Estancia) tia Facundo...   \n",
       "262        80239,BETTY GARRIDO MI ABUELA (La Floresta)   \n",
       "\n",
       "                                           DESCRIPCION  SECCION  \\\n",
       "318  Marcador 108\\nlat/lng: (-34.75747,-55.77451)\\n...      NaN   \n",
       "469                                                NaN      NaN   \n",
       "452                                              🟡🔥///      NaN   \n",
       "623  🟥/// http://maps.google.com/?q=-34.76886579585...      NaN   \n",
       "262                                                NaN      NaN   \n",
       "\n",
       "                        FECHA  PERIODICIDAD  ORDEN  RESPONSABLE       CODPROY  \\\n",
       "318  2024-07-27T03:00:00.000Z  cada 56 dias  124.0   26987950.0  2.241074e+09   \n",
       "469  2024-08-26T03:00:00.000Z    CADA LUNES   25.0   26988122.0  2.236031e+09   \n",
       "452  2024-08-26T03:00:00.000Z    CADA LUNES    7.0   26988122.0  2.236031e+09   \n",
       "623  2024-08-23T03:00:00.000Z  cada viernes    7.0   26988122.0  2.236032e+09   \n",
       "262  2024-09-16T03:00:00.000Z  cada 56 dias   68.0   26987950.0  2.241074e+09   \n",
       "\n",
       "         CODTAREA            ETIQUETA CODIGO  \n",
       "318  7.702498e+09          🌓Tar, 🗞️Vp  41920  \n",
       "469  8.009769e+09                 NaN  80280  \n",
       "452  7.562501e+09                 NaN  80261  \n",
       "623  7.356035e+09                 NaN  22344  \n",
       "262  7.349302e+09  🌓Tar, 🔎 Ctrl, 🗞️Vp  80239  "
      ]
     },
     "execution_count": 16,
     "metadata": {},
     "output_type": "execute_result"
    }
   ],
   "source": [
    "# eliminamos duplicados en codigo cliente\n",
    "df_tareas = df_tareas.drop_duplicates(subset=['CODIGO'], keep='first')\n",
    "df_tareas.sample(5)"
   ]
  },
  {
   "cell_type": "code",
   "execution_count": 17,
   "metadata": {},
   "outputs": [
    {
     "data": {
      "text/plain": [
       "array(['Clientes Especiales', '🗞️ Visitas periodicas Hugo',\n",
       "       '🗞️ Visitas periodicas Martin', '🗞️ Visitas Periodicas Dario',\n",
       "       'Ruta Dario Lunes', 'Ruta Dario Martes', 'Ruta Dario Miercoles',\n",
       "       'Ruta Dario Jueves', 'Ruta Dario Viernes', 'Ruta Dario Sabado',\n",
       "       'Ruta Martin Lunes', 'Ruta Martin Martes', 'Ruta Martin Miercoles',\n",
       "       'Ruta Martin Jueves', 'Ruta Martin Viernes', 'Ruta Martin Sabado',\n",
       "       'Ruta Hugo Lunes', 'Ruta Hugo Martes', 'Ruta Hugo Miercoles',\n",
       "       'Ruta Hugo Jueves', 'Ruta Hugo Sabado', '💲Creditos Hugo',\n",
       "       '💲Creditos Martin', '💲Creditos Dario', '💲Creditos Administracion'],\n",
       "      dtype=object)"
      ]
     },
     "execution_count": 17,
     "metadata": {},
     "output_type": "execute_result"
    }
   ],
   "source": [
    "df_tareas['PROYECTO'].unique()"
   ]
  },
  {
   "cell_type": "code",
   "execution_count": 18,
   "metadata": {},
   "outputs": [],
   "source": [
    "def strip_accents(text):\n",
    "    return ''.join(c for c in unicodedata.normalize('NFD', text)\n",
    "                  if unicodedata.category(c) != 'Mn')\n"
   ]
  },
  {
   "cell_type": "markdown",
   "metadata": {},
   "source": [
    "Categorias"
   ]
  },
  {
   "cell_type": "code",
   "execution_count": 19,
   "metadata": {},
   "outputs": [],
   "source": [
    "def obtener_categoria(proyecto):\n",
    "    # Eliminar emojis y otros caracteres especiales\n",
    "    proyecto = ''.join(c for c in proyecto if c.isascii())\n",
    "    # Eliminar acentos\n",
    "    proyecto = strip_accents(proyecto)\n",
    "    # Convertir a minúsculas\n",
    "    proyecto = proyecto.lower().strip()\n",
    "    \n",
    "    if 'clientes especiales' in proyecto:\n",
    "        return 'Clientes Especiales'\n",
    "    elif 'visitas' in proyecto:\n",
    "        return 'Visitas Periódicas'\n",
    "    elif 'ruta' in proyecto:\n",
    "        return 'Rutas'\n",
    "    elif 'creditos' in proyecto:\n",
    "        return 'Creditos'\n",
    "    return 'Otros'\n",
    "\n",
    "# Aplicar la función a la columna 'PROYECTO' y crear una nueva columna 'CATEGORIA'\n",
    "df_tareas['CATEGORIA'] = df_tareas['PROYECTO'].apply(obtener_categoria)"
   ]
  },
  {
   "cell_type": "code",
   "execution_count": 20,
   "metadata": {},
   "outputs": [
    {
     "name": "stdout",
     "output_type": "stream",
     "text": [
      "CATEGORIA\n",
      "Rutas                  290\n",
      "Visitas Periódicas     244\n",
      "Clientes Especiales     40\n",
      "Creditos                26\n",
      "Name: count, dtype: int64\n"
     ]
    }
   ],
   "source": [
    "print(df_tareas['CATEGORIA'].value_counts())"
   ]
  },
  {
   "cell_type": "code",
   "execution_count": 21,
   "metadata": {},
   "outputs": [
    {
     "name": "stdout",
     "output_type": "stream",
     "text": [
      "Categorías únicas:\n",
      "['Clientes Especiales' 'Visitas Periódicas' 'Rutas' 'Creditos']\n",
      "\n",
      "Conteo de categorías:\n",
      "CATEGORIA\n",
      "Rutas                  290\n",
      "Visitas Periódicas     244\n",
      "Clientes Especiales     40\n",
      "Creditos                26\n",
      "Name: count, dtype: int64\n"
     ]
    }
   ],
   "source": [
    "print(\"Categorías únicas:\")\n",
    "print(df_tareas['CATEGORIA'].unique())\n",
    "print(\"\\nConteo de categorías:\")\n",
    "print(df_tareas['CATEGORIA'].value_counts())"
   ]
  },
  {
   "cell_type": "code",
   "execution_count": 22,
   "metadata": {},
   "outputs": [
    {
     "name": "stdout",
     "output_type": "stream",
     "text": [
      "<class 'pandas.core.frame.DataFrame'>\n",
      "Index: 600 entries, 0 to 1220\n",
      "Data columns (total 13 columns):\n",
      " #   Column        Non-Null Count  Dtype  \n",
      "---  ------        --------------  -----  \n",
      " 0   PROYECTO      600 non-null    object \n",
      " 1   TAREA         599 non-null    object \n",
      " 2   DESCRIPCION   293 non-null    object \n",
      " 3   SECCION       117 non-null    float64\n",
      " 4   FECHA         530 non-null    object \n",
      " 5   PERIODICIDAD  530 non-null    object \n",
      " 6   ORDEN         573 non-null    float64\n",
      " 7   RESPONSABLE   574 non-null    float64\n",
      " 8   CODPROY       573 non-null    float64\n",
      " 9   CODTAREA      597 non-null    float64\n",
      " 10  ETIQUETA      329 non-null    object \n",
      " 11  CODIGO        599 non-null    object \n",
      " 12  CATEGORIA     600 non-null    object \n",
      "dtypes: float64(5), object(8)\n",
      "memory usage: 65.6+ KB\n"
     ]
    }
   ],
   "source": [
    "df_tareas.info()"
   ]
  },
  {
   "cell_type": "code",
   "execution_count": 23,
   "metadata": {},
   "outputs": [],
   "source": [
    "# dejar en tareas solamente CODIGO, PROYECTO, CATEGORIA\n"
   ]
  },
  {
   "cell_type": "markdown",
   "metadata": {},
   "source": []
  },
  {
   "cell_type": "code",
   "execution_count": 24,
   "metadata": {},
   "outputs": [],
   "source": [
    "df_tareas.to_excel(\"Tareas-limpio.xlsx\", index=\"FALSE\")"
   ]
  }
 ],
 "metadata": {
  "kernelspec": {
   "display_name": "Python 3",
   "language": "python",
   "name": "python3"
  },
  "language_info": {
   "codemirror_mode": {
    "name": "ipython",
    "version": 3
   },
   "file_extension": ".py",
   "mimetype": "text/x-python",
   "name": "python",
   "nbconvert_exporter": "python",
   "pygments_lexer": "ipython3",
   "version": "3.10.11"
  }
 },
 "nbformat": 4,
 "nbformat_minor": 2
}
